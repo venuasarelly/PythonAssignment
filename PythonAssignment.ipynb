{
 "cells": [
  {
   "cell_type": "code",
   "execution_count": null,
   "id": "ce10a9d8",
   "metadata": {},
   "outputs": [],
   "source": [
    "# 1 FIBONACCI SERIES"
   ]
  },
  {
   "cell_type": "code",
   "execution_count": 4,
   "id": "c00b9f6a",
   "metadata": {},
   "outputs": [
    {
     "name": "stdout",
     "output_type": "stream",
     "text": [
      "5\n"
     ]
    },
    {
     "data": {
      "text/plain": [
       "5"
      ]
     },
     "execution_count": 4,
     "metadata": {},
     "output_type": "execute_result"
    }
   ],
   "source": [
    "def fibonacci(n):\n",
    "    if n < 0:\n",
    "        raise ValueError(\"n must be a non-negative integer\")\n",
    "    elif n == 0:\n",
    "        return 0\n",
    "    elif n == 1:\n",
    "        return 1\n",
    "    else:\n",
    "        a = 0\n",
    "        b = 1\n",
    "        for i in range(2, n+1):\n",
    "            c = a + b\n",
    "            a = b\n",
    "            b = c\n",
    "        return b\n",
    "n = int(input())\n",
    "fibonacci(n)"
   ]
  },
  {
   "cell_type": "code",
   "execution_count": null,
   "id": "a8f11d87",
   "metadata": {},
   "outputs": [],
   "source": [
    "# 2 FizzBuzz"
   ]
  },
  {
   "cell_type": "code",
   "execution_count": 5,
   "id": "5ec0a3ab",
   "metadata": {},
   "outputs": [
    {
     "name": "stdout",
     "output_type": "stream",
     "text": [
      "10\n",
      "1\n",
      "2\n",
      "Fizz\n",
      "4\n",
      "Buzz\n",
      "Fizz\n",
      "7\n",
      "8\n",
      "Fizz\n",
      "Buzz\n"
     ]
    }
   ],
   "source": [
    "def fizzbuzz(n):\n",
    "    for i in range(1, n+1):\n",
    "        if i % 3 == 0 and i % 5 == 0:\n",
    "            print(\"FizzBuzz\")\n",
    "        elif i % 3 == 0:\n",
    "            print(\"Fizz\")\n",
    "        elif i % 5 == 0:\n",
    "            print(\"Buzz\")\n",
    "        else:\n",
    "            print(i)\n",
    "n = int(input())\n",
    "fizzbuzz(n)"
   ]
  },
  {
   "cell_type": "code",
   "execution_count": null,
   "id": "edc53a2b",
   "metadata": {},
   "outputs": [],
   "source": [
    "#anagaram checker"
   ]
  },
  {
   "cell_type": "code",
   "execution_count": 6,
   "id": "51e40b75",
   "metadata": {},
   "outputs": [
    {
     "name": "stdout",
     "output_type": "stream",
     "text": [
      "venu\n",
      "enuv\n",
      "The strings are anagrams.\n"
     ]
    }
   ],
   "source": [
    "def check(s1, s2):\n",
    "     \n",
    "    if(sorted(s1)== sorted(s2)):\n",
    "        print(\"The strings are anagrams.\")\n",
    "    else:\n",
    "        print(\"The strings aren't anagrams.\")        \n",
    "         \n",
    "\n",
    "s1 = input()\n",
    "s2 = input()\n",
    "check(s1, s2)"
   ]
  },
  {
   "cell_type": "code",
   "execution_count": null,
   "id": "7a0510e6",
   "metadata": {},
   "outputs": [],
   "source": [
    "#stack"
   ]
  },
  {
   "cell_type": "code",
   "execution_count": 1,
   "id": "32248cd3",
   "metadata": {},
   "outputs": [
    {
     "name": "stdout",
     "output_type": "stream",
     "text": [
      "3\n",
      "2\n",
      "2\n",
      "False\n"
     ]
    }
   ],
   "source": [
    "from collections import deque\n",
    "\n",
    "class Stack:\n",
    "    def __init__(self):\n",
    "        self.items = deque()\n",
    "    \n",
    "    def push(self, item):\n",
    "        self.items.append(item)\n",
    "    \n",
    "    def pop(self):\n",
    "        return self.items.pop()\n",
    "    \n",
    "    def peek(self):\n",
    "        return self.items[-1]\n",
    "    \n",
    "    def is_empty(self):\n",
    "        return len(self.items) == 0\n",
    "    \n",
    "    def size(self):\n",
    "        return len(self.items)\n",
    "stack = Stack()\n",
    "\n",
    "stack.push(1)\n",
    "stack.push(2)\n",
    "stack.push(3)\n",
    "\n",
    "print(stack.peek()) \n",
    "\n",
    "stack.pop()\n",
    "\n",
    "print(stack.peek())  \n",
    "\n",
    "print(stack.size())  \n",
    "print(stack.is_empty())\n"
   ]
  },
  {
   "cell_type": "code",
   "execution_count": null,
   "id": "265c8d92",
   "metadata": {},
   "outputs": [],
   "source": [
    "#queue"
   ]
  },
  {
   "cell_type": "code",
   "execution_count": 2,
   "id": "d7d1943a",
   "metadata": {},
   "outputs": [
    {
     "name": "stdout",
     "output_type": "stream",
     "text": [
      "1\n",
      "2\n",
      "2\n",
      "False\n"
     ]
    }
   ],
   "source": [
    "from collections import deque\n",
    "\n",
    "class Queue:\n",
    "    def __init__(self):\n",
    "        self.items = deque()\n",
    "    \n",
    "    def enqueue(self, item):\n",
    "        self.items.append(item)\n",
    "    \n",
    "    def dequeue(self):\n",
    "        return self.items.popleft()\n",
    "    \n",
    "    def peek(self):\n",
    "        return self.items[0]\n",
    "    \n",
    "    def is_empty(self):\n",
    "        return len(self.items) == 0\n",
    "    \n",
    "    def size(self):\n",
    "        return len(self.items)\n",
    "queue = Queue()\n",
    "\n",
    "queue.enqueue(1)\n",
    "queue.enqueue(2)\n",
    "queue.enqueue(3)\n",
    "\n",
    "print(queue.peek()) \n",
    "\n",
    "queue.dequeue()\n",
    "\n",
    "print(queue.peek())  \n",
    "\n",
    "print(queue.size()) \n",
    "\n",
    "print(queue.is_empty())  \n"
   ]
  },
  {
   "cell_type": "code",
   "execution_count": null,
   "id": "a0ccb4bc",
   "metadata": {},
   "outputs": [],
   "source": []
  },
  {
   "cell_type": "code",
   "execution_count": 5,
   "id": "c7b9953e",
   "metadata": {},
   "outputs": [
    {
     "name": "stdout",
     "output_type": "stream",
     "text": [
      "1\n",
      "3\n",
      "4\n",
      "5\n",
      "7\n",
      "8\n",
      "9\n"
     ]
    }
   ],
   "source": [
    "class Node:\n",
    "    def __init__(self, value):\n",
    "        self.value = value\n",
    "        self.left = None\n",
    "        self.right = None\n",
    "\n",
    "class BST:\n",
    "    def __init__(self):\n",
    "        self.root = None\n",
    "    \n",
    "    def insert(self, value):\n",
    "        new_node = Node(value)\n",
    "        if self.root is None:\n",
    "            self.root = new_node\n",
    "        else:\n",
    "            current = self.root\n",
    "            while True:\n",
    "                if value < current.value:\n",
    "                    if current.left is None:\n",
    "                        current.left = new_node\n",
    "                        break\n",
    "                    else:\n",
    "                        current = current.left\n",
    "                elif value > current.value:\n",
    "                    if current.right is None:\n",
    "                        current.right = new_node\n",
    "                        break\n",
    "                    else:\n",
    "                        current = current.right\n",
    "    \n",
    "    def search(self, value):\n",
    "        current = self.root\n",
    "        while current is not None:\n",
    "            if value == current.value:\n",
    "                return True\n",
    "            elif value < current.value:\n",
    "                current = current.left\n",
    "            else:\n",
    "                current = current.right\n",
    "        return False\n",
    "    \n",
    "    def display(self):\n",
    "       \n",
    "        self._display_helper(self.root)\n",
    "\n",
    "    def _display_helper(self, node):\n",
    "        \n",
    "        if node is not None:\n",
    "            self._display_helper(node.left)\n",
    "            print(node.value)\n",
    "            self._display_helper(node.right)\n",
    "\n",
    "bst = BST()\n",
    "\n",
    "bst.insert(5)\n",
    "bst.insert(3)\n",
    "bst.insert(8)\n",
    "bst.insert(1)\n",
    "bst.insert(4)\n",
    "bst.insert(7)\n",
    "bst.insert(9)\n",
    "\n",
    "bst.display()  # prints: 1 3 4 5 7 8 9\n"
   ]
  },
  {
   "cell_type": "code",
   "execution_count": null,
   "id": "6b5db28e",
   "metadata": {},
   "outputs": [],
   "source": []
  }
 ],
 "metadata": {
  "kernelspec": {
   "display_name": "Python 3 (ipykernel)",
   "language": "python",
   "name": "python3"
  },
  "language_info": {
   "codemirror_mode": {
    "name": "ipython",
    "version": 3
   },
   "file_extension": ".py",
   "mimetype": "text/x-python",
   "name": "python",
   "nbconvert_exporter": "python",
   "pygments_lexer": "ipython3",
   "version": "3.9.12"
  }
 },
 "nbformat": 4,
 "nbformat_minor": 5
}
